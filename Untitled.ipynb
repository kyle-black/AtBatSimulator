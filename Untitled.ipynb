{
 "cells": [
  {
   "cell_type": "code",
   "execution_count": 1,
   "metadata": {},
   "outputs": [],
   "source": [
    "import pandas as pd\n",
    "import sqlite3 as sql\n",
    "import numpy as np\n",
    "import matplotlib.pyplot as plt\n",
    "from sklearn.model_selection import train_test_split\n",
    "from sklearn.ensemble import RandomForestRegressor\n",
    "from sklearn.preprocessing import StandardScaler\n",
    "from sklearn.ensemble import AdaBoostRegressor\n",
    "from sklearn import metrics\n",
    "\n",
    "from sklearn.ensemble import GradientBoostingRegressor\n",
    "from sklearn.ensemble import RandomForestRegressor\n",
    "from sklearn.linear_model import LinearRegression\n",
    "from sklearn.ensemble import VotingRegressor\n",
    "from sklearn.model_selection import GridSearchCV\n",
    "import pylab"
   ]
  },
  {
   "cell_type": "code",
   "execution_count": 2,
   "metadata": {},
   "outputs": [],
   "source": [
    "csv_path = ('MAIN.csv')"
   ]
  },
  {
   "cell_type": "code",
   "execution_count": 3,
   "metadata": {},
   "outputs": [],
   "source": [
    "df = pd.read_csv(csv_path)\n",
    "\n",
    "df = df[['batter', 'pitch_type', 'p_throws', 'zone', 'release_spin_rate', 'balls', 'strikes',\n",
    "         'release_speed', 'estimated_ba_using_speedangle']]\n"
   ]
  },
  {
   "cell_type": "code",
   "execution_count": 4,
   "metadata": {},
   "outputs": [],
   "source": [
    "df = df[df['balls'].notna()]\n",
    "df = df[df['strikes'].notna()]\n",
    "df['zone'] = pd.Categorical(df.zone)\n",
    "# print(df.columns)\n",
    "\n",
    "df = pd.get_dummies(df)\n",
    "df1 = df"
   ]
  },
  {
   "cell_type": "code",
   "execution_count": 5,
   "metadata": {},
   "outputs": [
    {
     "data": {
      "text/html": [
       "<div>\n",
       "<style scoped>\n",
       "    .dataframe tbody tr th:only-of-type {\n",
       "        vertical-align: middle;\n",
       "    }\n",
       "\n",
       "    .dataframe tbody tr th {\n",
       "        vertical-align: top;\n",
       "    }\n",
       "\n",
       "    .dataframe thead th {\n",
       "        text-align: right;\n",
       "    }\n",
       "</style>\n",
       "<table border=\"1\" class=\"dataframe\">\n",
       "  <thead>\n",
       "    <tr style=\"text-align: right;\">\n",
       "      <th></th>\n",
       "      <th>batter</th>\n",
       "      <th>release_spin_rate</th>\n",
       "      <th>balls</th>\n",
       "      <th>strikes</th>\n",
       "      <th>release_speed</th>\n",
       "      <th>estimated_ba_using_speedangle</th>\n",
       "      <th>pitch_type_CH</th>\n",
       "      <th>pitch_type_CS</th>\n",
       "      <th>pitch_type_CU</th>\n",
       "      <th>pitch_type_FA</th>\n",
       "      <th>...</th>\n",
       "      <th>zone_4</th>\n",
       "      <th>zone_5</th>\n",
       "      <th>zone_6</th>\n",
       "      <th>zone_7</th>\n",
       "      <th>zone_8</th>\n",
       "      <th>zone_9</th>\n",
       "      <th>zone_11</th>\n",
       "      <th>zone_12</th>\n",
       "      <th>zone_13</th>\n",
       "      <th>zone_14</th>\n",
       "    </tr>\n",
       "  </thead>\n",
       "  <tbody>\n",
       "    <tr>\n",
       "      <th>0</th>\n",
       "      <td>457763</td>\n",
       "      <td>2691.0</td>\n",
       "      <td>1</td>\n",
       "      <td>0</td>\n",
       "      <td>87.0</td>\n",
       "      <td>0.131</td>\n",
       "      <td>0</td>\n",
       "      <td>0</td>\n",
       "      <td>0</td>\n",
       "      <td>0</td>\n",
       "      <td>...</td>\n",
       "      <td>0</td>\n",
       "      <td>0</td>\n",
       "      <td>0</td>\n",
       "      <td>0</td>\n",
       "      <td>0</td>\n",
       "      <td>0</td>\n",
       "      <td>0</td>\n",
       "      <td>0</td>\n",
       "      <td>0</td>\n",
       "      <td>0</td>\n",
       "    </tr>\n",
       "    <tr>\n",
       "      <th>1</th>\n",
       "      <td>673451</td>\n",
       "      <td>1966.0</td>\n",
       "      <td>1</td>\n",
       "      <td>0</td>\n",
       "      <td>87.0</td>\n",
       "      <td>0.254</td>\n",
       "      <td>1</td>\n",
       "      <td>0</td>\n",
       "      <td>0</td>\n",
       "      <td>0</td>\n",
       "      <td>...</td>\n",
       "      <td>0</td>\n",
       "      <td>0</td>\n",
       "      <td>0</td>\n",
       "      <td>0</td>\n",
       "      <td>0</td>\n",
       "      <td>0</td>\n",
       "      <td>1</td>\n",
       "      <td>0</td>\n",
       "      <td>0</td>\n",
       "      <td>0</td>\n",
       "    </tr>\n",
       "    <tr>\n",
       "      <th>2</th>\n",
       "      <td>645277</td>\n",
       "      <td>1977.0</td>\n",
       "      <td>0</td>\n",
       "      <td>2</td>\n",
       "      <td>87.0</td>\n",
       "      <td>0.357</td>\n",
       "      <td>0</td>\n",
       "      <td>0</td>\n",
       "      <td>1</td>\n",
       "      <td>0</td>\n",
       "      <td>...</td>\n",
       "      <td>0</td>\n",
       "      <td>0</td>\n",
       "      <td>0</td>\n",
       "      <td>0</td>\n",
       "      <td>0</td>\n",
       "      <td>0</td>\n",
       "      <td>0</td>\n",
       "      <td>1</td>\n",
       "      <td>0</td>\n",
       "      <td>0</td>\n",
       "    </tr>\n",
       "    <tr>\n",
       "      <th>3</th>\n",
       "      <td>641684</td>\n",
       "      <td>2342.0</td>\n",
       "      <td>0</td>\n",
       "      <td>1</td>\n",
       "      <td>87.0</td>\n",
       "      <td>0.220</td>\n",
       "      <td>1</td>\n",
       "      <td>0</td>\n",
       "      <td>0</td>\n",
       "      <td>0</td>\n",
       "      <td>...</td>\n",
       "      <td>0</td>\n",
       "      <td>0</td>\n",
       "      <td>0</td>\n",
       "      <td>0</td>\n",
       "      <td>0</td>\n",
       "      <td>0</td>\n",
       "      <td>1</td>\n",
       "      <td>0</td>\n",
       "      <td>0</td>\n",
       "      <td>0</td>\n",
       "    </tr>\n",
       "    <tr>\n",
       "      <th>4</th>\n",
       "      <td>593871</td>\n",
       "      <td>1834.0</td>\n",
       "      <td>1</td>\n",
       "      <td>1</td>\n",
       "      <td>87.0</td>\n",
       "      <td>0.051</td>\n",
       "      <td>1</td>\n",
       "      <td>0</td>\n",
       "      <td>0</td>\n",
       "      <td>0</td>\n",
       "      <td>...</td>\n",
       "      <td>0</td>\n",
       "      <td>0</td>\n",
       "      <td>0</td>\n",
       "      <td>0</td>\n",
       "      <td>0</td>\n",
       "      <td>0</td>\n",
       "      <td>0</td>\n",
       "      <td>0</td>\n",
       "      <td>1</td>\n",
       "      <td>0</td>\n",
       "    </tr>\n",
       "  </tbody>\n",
       "</table>\n",
       "<p>5 rows × 33 columns</p>\n",
       "</div>"
      ],
      "text/plain": [
       "   batter  release_spin_rate  balls  strikes  release_speed  \\\n",
       "0  457763             2691.0      1        0           87.0   \n",
       "1  673451             1966.0      1        0           87.0   \n",
       "2  645277             1977.0      0        2           87.0   \n",
       "3  641684             2342.0      0        1           87.0   \n",
       "4  593871             1834.0      1        1           87.0   \n",
       "\n",
       "   estimated_ba_using_speedangle  pitch_type_CH  pitch_type_CS  pitch_type_CU  \\\n",
       "0                          0.131              0              0              0   \n",
       "1                          0.254              1              0              0   \n",
       "2                          0.357              0              0              1   \n",
       "3                          0.220              1              0              0   \n",
       "4                          0.051              1              0              0   \n",
       "\n",
       "   pitch_type_FA  ...  zone_4  zone_5  zone_6  zone_7  zone_8  zone_9  \\\n",
       "0              0  ...       0       0       0       0       0       0   \n",
       "1              0  ...       0       0       0       0       0       0   \n",
       "2              0  ...       0       0       0       0       0       0   \n",
       "3              0  ...       0       0       0       0       0       0   \n",
       "4              0  ...       0       0       0       0       0       0   \n",
       "\n",
       "   zone_11  zone_12  zone_13  zone_14  \n",
       "0        0        0        0        0  \n",
       "1        1        0        0        0  \n",
       "2        0        1        0        0  \n",
       "3        1        0        0        0  \n",
       "4        0        0        1        0  \n",
       "\n",
       "[5 rows x 33 columns]"
      ]
     },
     "execution_count": 5,
     "metadata": {},
     "output_type": "execute_result"
    }
   ],
   "source": [
    "df1.head(5)"
   ]
  },
  {
   "cell_type": "markdown",
   "metadata": {},
   "source": [
    "df.columns"
   ]
  },
  {
   "cell_type": "code",
   "execution_count": 6,
   "metadata": {},
   "outputs": [
    {
     "data": {
      "text/plain": [
       "Index(['batter', 'release_spin_rate', 'balls', 'strikes', 'release_speed',\n",
       "       'estimated_ba_using_speedangle', 'pitch_type_CH', 'pitch_type_CS',\n",
       "       'pitch_type_CU', 'pitch_type_FA', 'pitch_type_FC', 'pitch_type_FF',\n",
       "       'pitch_type_FS', 'pitch_type_KC', 'pitch_type_KN', 'pitch_type_SC',\n",
       "       'pitch_type_SI', 'pitch_type_SL', 'p_throws_L', 'p_throws_R', 'zone_1',\n",
       "       'zone_2', 'zone_3', 'zone_4', 'zone_5', 'zone_6', 'zone_7', 'zone_8',\n",
       "       'zone_9', 'zone_11', 'zone_12', 'zone_13', 'zone_14'],\n",
       "      dtype='object')"
      ]
     },
     "execution_count": 6,
     "metadata": {},
     "output_type": "execute_result"
    }
   ],
   "source": [
    "df.columns"
   ]
  },
  {
   "cell_type": "code",
   "execution_count": 7,
   "metadata": {},
   "outputs": [],
   "source": [
    "df=df[df['batter']==457763]"
   ]
  },
  {
   "cell_type": "code",
   "execution_count": 8,
   "metadata": {},
   "outputs": [],
   "source": [
    "yt=df[30:40]"
   ]
  },
  {
   "cell_type": "code",
   "execution_count": 9,
   "metadata": {},
   "outputs": [],
   "source": [
    "yt.to_excel('batter.xlsx')"
   ]
  },
  {
   "cell_type": "code",
   "execution_count": 10,
   "metadata": {},
   "outputs": [],
   "source": [
    "df = df[df['estimated_ba_using_speedangle'].notna()]\n",
    "df = df[df['release_spin_rate'].notna()]"
   ]
  },
  {
   "cell_type": "code",
   "execution_count": 11,
   "metadata": {},
   "outputs": [],
   "source": [
    "y = df['estimated_ba_using_speedangle'].values"
   ]
  },
  {
   "cell_type": "code",
   "execution_count": 12,
   "metadata": {},
   "outputs": [],
   "source": [
    "X = df.drop('estimated_ba_using_speedangle', axis=1)"
   ]
  },
  {
   "cell_type": "code",
   "execution_count": null,
   "metadata": {},
   "outputs": [],
   "source": []
  },
  {
   "cell_type": "code",
   "execution_count": 13,
   "metadata": {},
   "outputs": [],
   "source": [
    "X=X.drop('batter', axis=1)"
   ]
  },
  {
   "cell_type": "code",
   "execution_count": 14,
   "metadata": {},
   "outputs": [],
   "source": [
    "X_frame= X.columns"
   ]
  },
  {
   "cell_type": "code",
   "execution_count": 15,
   "metadata": {},
   "outputs": [],
   "source": [
    "X_frame= X.columns"
   ]
  },
  {
   "cell_type": "code",
   "execution_count": 16,
   "metadata": {},
   "outputs": [],
   "source": [
    "X=X.values"
   ]
  },
  {
   "cell_type": "code",
   "execution_count": 17,
   "metadata": {},
   "outputs": [],
   "source": [
    "#X_frame=df.drop('estimated_ba_using_speedangle', axis=1)"
   ]
  },
  {
   "cell_type": "code",
   "execution_count": 18,
   "metadata": {},
   "outputs": [
    {
     "data": {
      "text/plain": [
       "array([[2.691e+03, 1.000e+00, 0.000e+00, ..., 0.000e+00, 0.000e+00,\n",
       "        0.000e+00],\n",
       "       [2.075e+03, 2.000e+00, 0.000e+00, ..., 0.000e+00, 0.000e+00,\n",
       "        0.000e+00],\n",
       "       [1.081e+03, 1.000e+00, 2.000e+00, ..., 0.000e+00, 0.000e+00,\n",
       "        0.000e+00],\n",
       "       ...,\n",
       "       [2.411e+03, 1.000e+00, 0.000e+00, ..., 0.000e+00, 0.000e+00,\n",
       "        0.000e+00],\n",
       "       [2.239e+03, 0.000e+00, 0.000e+00, ..., 0.000e+00, 0.000e+00,\n",
       "        0.000e+00],\n",
       "       [2.316e+03, 1.000e+00, 0.000e+00, ..., 0.000e+00, 0.000e+00,\n",
       "        0.000e+00]])"
      ]
     },
     "execution_count": 18,
     "metadata": {},
     "output_type": "execute_result"
    }
   ],
   "source": [
    "X"
   ]
  },
  {
   "cell_type": "code",
   "execution_count": 19,
   "metadata": {},
   "outputs": [],
   "source": [
    "y_frame = df['estimated_ba_using_speedangle']"
   ]
  },
  {
   "cell_type": "code",
   "execution_count": 20,
   "metadata": {},
   "outputs": [
    {
     "data": {
      "text/plain": [
       "array([[2.691e+03, 1.000e+00, 0.000e+00, ..., 0.000e+00, 0.000e+00,\n",
       "        0.000e+00],\n",
       "       [2.075e+03, 2.000e+00, 0.000e+00, ..., 0.000e+00, 0.000e+00,\n",
       "        0.000e+00],\n",
       "       [1.081e+03, 1.000e+00, 2.000e+00, ..., 0.000e+00, 0.000e+00,\n",
       "        0.000e+00],\n",
       "       ...,\n",
       "       [2.411e+03, 1.000e+00, 0.000e+00, ..., 0.000e+00, 0.000e+00,\n",
       "        0.000e+00],\n",
       "       [2.239e+03, 0.000e+00, 0.000e+00, ..., 0.000e+00, 0.000e+00,\n",
       "        0.000e+00],\n",
       "       [2.316e+03, 1.000e+00, 0.000e+00, ..., 0.000e+00, 0.000e+00,\n",
       "        0.000e+00]])"
      ]
     },
     "execution_count": 20,
     "metadata": {},
     "output_type": "execute_result"
    }
   ],
   "source": [
    "X"
   ]
  },
  {
   "cell_type": "code",
   "execution_count": 21,
   "metadata": {},
   "outputs": [
    {
     "data": {
      "text/plain": [
       "Index(['release_spin_rate', 'balls', 'strikes', 'release_speed',\n",
       "       'pitch_type_CH', 'pitch_type_CS', 'pitch_type_CU', 'pitch_type_FA',\n",
       "       'pitch_type_FC', 'pitch_type_FF', 'pitch_type_FS', 'pitch_type_KC',\n",
       "       'pitch_type_KN', 'pitch_type_SC', 'pitch_type_SI', 'pitch_type_SL',\n",
       "       'p_throws_L', 'p_throws_R', 'zone_1', 'zone_2', 'zone_3', 'zone_4',\n",
       "       'zone_5', 'zone_6', 'zone_7', 'zone_8', 'zone_9', 'zone_11', 'zone_12',\n",
       "       'zone_13', 'zone_14'],\n",
       "      dtype='object')"
      ]
     },
     "execution_count": 21,
     "metadata": {},
     "output_type": "execute_result"
    }
   ],
   "source": [
    "X_frame"
   ]
  },
  {
   "cell_type": "code",
   "execution_count": 22,
   "metadata": {},
   "outputs": [
    {
     "data": {
      "text/plain": [
       "0         0.131\n",
       "216       0.114\n",
       "507       0.569\n",
       "605       0.874\n",
       "1033      0.171\n",
       "          ...  \n",
       "113304    0.477\n",
       "114378    0.723\n",
       "115970    0.020\n",
       "116716    0.454\n",
       "117762    0.729\n",
       "Name: estimated_ba_using_speedangle, Length: 218, dtype: float64"
      ]
     },
     "execution_count": 22,
     "metadata": {},
     "output_type": "execute_result"
    }
   ],
   "source": [
    "y_frame"
   ]
  },
  {
   "cell_type": "code",
   "execution_count": 23,
   "metadata": {},
   "outputs": [],
   "source": [
    "#sc = StandardScaler()\n",
    "\n",
    "y = y.reshape(-1, 1)\n",
    "\n",
    "\n",
    "#X = sc.fit_transform(X)\n",
    "#y = sc.fit_transform(y)"
   ]
  },
  {
   "cell_type": "code",
   "execution_count": 24,
   "metadata": {},
   "outputs": [],
   "source": [
    "X_train, X_test, y_train, y_test = train_test_split(\n",
    "    X, y, test_size=.2, random_state=0)"
   ]
  },
  {
   "cell_type": "code",
   "execution_count": 25,
   "metadata": {},
   "outputs": [],
   "source": [
    "GBR = GradientBoostingRegressor(random_state=1)\n",
    "GBR_parameters = {'learning_rate': [0.01, 0.02, 0.03, 0.04],\n",
    "                  'subsample': [0.9, 0.5, 0.2, 0.1],\n",
    "                  'n_estimators': [100, 500, 1000, 1500],\n",
    "                  'max_depth': [4, 6, 8, 10]\n",
    "                  }"
   ]
  },
  {
   "cell_type": "code",
   "execution_count": 26,
   "metadata": {},
   "outputs": [],
   "source": [
    "grid_GBR = GridSearchCV(\n",
    "    estimator=GBR, param_grid=GBR_parameters, cv=2, n_jobs=-1)"
   ]
  },
  {
   "cell_type": "code",
   "execution_count": 27,
   "metadata": {},
   "outputs": [],
   "source": [
    "RFR = RandomForestRegressor(random_state=1)\n",
    "RFR_Grid = {\n",
    "    \"n_estimators\": [10, 20, 30],\n",
    "    \"max_features\": [\"auto\", \"sqrt\", \"log2\"],\n",
    "    \"min_samples_split\": [2, 4, 8],\n",
    "    \"bootstrap\": [True, False],\n",
    "}\n",
    "grid_RFR = GridSearchCV(estimator=RFR, param_grid=RFR_Grid, cv=2, n_jobs=-1)"
   ]
  },
  {
   "cell_type": "code",
   "execution_count": 30,
   "metadata": {},
   "outputs": [],
   "source": [
    "AB = AdaBoostRegressor()\n",
    "AB_Grid = {\n",
    "    \n",
    "    'n_estimators': [10, 50, 100, 500],\n",
    "    'learning_rate': [0.0001, 0.001, 0.01, 0.1, 1.0],\n",
    "    'loss': ['linear', 'square', 'exponential']\n",
    "    \n",
    "    \n",
    "}"
   ]
  },
  {
   "cell_type": "code",
   "execution_count": 31,
   "metadata": {},
   "outputs": [],
   "source": [
    "grid_AB=GridSearchCV(estimator=AB, param_grid=AB_Grid, cv=2, n_jobs=-1)"
   ]
  },
  {
   "cell_type": "code",
   "execution_count": 32,
   "metadata": {},
   "outputs": [],
   "source": [
    "RFR=RFR.fit(X_test,y_test.ravel())"
   ]
  },
  {
   "cell_type": "code",
   "execution_count": 33,
   "metadata": {},
   "outputs": [],
   "source": [
    "y_pred=RFR.predict(X_test)"
   ]
  },
  {
   "cell_type": "code",
   "execution_count": null,
   "metadata": {},
   "outputs": [],
   "source": []
  },
  {
   "cell_type": "code",
   "execution_count": 34,
   "metadata": {},
   "outputs": [],
   "source": [
    "AB=AB.fit(X_test,y_test.ravel())"
   ]
  },
  {
   "cell_type": "code",
   "execution_count": 35,
   "metadata": {},
   "outputs": [
    {
     "data": {
      "text/plain": [
       "array([0.63356, 0.13093, 0.09765, 0.57632, 0.29068, 0.53098, 0.17413,\n",
       "       0.72025, 0.08484, 0.28269, 0.08886, 0.28186, 0.28237, 0.28815,\n",
       "       0.4403 , 0.49354, 0.67475, 0.25418, 0.63438, 0.15159, 0.34146,\n",
       "       0.14908, 0.15756, 0.75286, 0.28592, 0.49803, 0.26365, 0.73465,\n",
       "       0.21187, 0.27805, 0.14395, 0.21104, 0.42144, 0.65719, 0.28013,\n",
       "       0.48202, 0.45974, 0.42151, 0.29028, 0.48739, 0.37894, 0.14918,\n",
       "       0.65587, 0.7394 ])"
      ]
     },
     "execution_count": 35,
     "metadata": {},
     "output_type": "execute_result"
    }
   ],
   "source": [
    "y_pred"
   ]
  },
  {
   "cell_type": "code",
   "execution_count": 40,
   "metadata": {},
   "outputs": [],
   "source": [
    "ypred2= AB.predict(X_test)"
   ]
  },
  {
   "cell_type": "code",
   "execution_count": 41,
   "metadata": {},
   "outputs": [
    {
     "data": {
      "text/plain": [
       "array([0.622     , 0.1552    , 0.1552    , 0.56681818, 0.28981481,\n",
       "       0.383     , 0.137625  , 0.75257895, 0.103     , 0.28981481,\n",
       "       0.143     , 0.36656522, 0.34568182, 0.28981481, 0.484     ,\n",
       "       0.50777778, 0.64173333, 0.28207692, 0.7448    , 0.15781818,\n",
       "       0.34568182, 0.28981481, 0.125     , 0.75323529, 0.35652941,\n",
       "       0.4835    , 0.307     , 0.75257895, 0.18133333, 0.25185714,\n",
       "       0.28207692, 0.1552    , 0.47266667, 0.58344444, 0.34568182,\n",
       "       0.36656522, 0.47266667, 0.35652941, 0.307     , 0.484     ,\n",
       "       0.34568182, 0.152125  , 0.57913636, 0.75323529])"
      ]
     },
     "execution_count": 41,
     "metadata": {},
     "output_type": "execute_result"
    }
   ],
   "source": [
    "ypred2"
   ]
  },
  {
   "cell_type": "code",
   "execution_count": 36,
   "metadata": {},
   "outputs": [],
   "source": [
    "from sklearn.tree import export_graphviz\n",
    "import graphviz"
   ]
  },
  {
   "cell_type": "code",
   "execution_count": 37,
   "metadata": {},
   "outputs": [
    {
     "data": {
      "text/plain": [
       "DecisionTreeRegressor(max_depth=3)"
      ]
     },
     "execution_count": 37,
     "metadata": {},
     "output_type": "execute_result"
    }
   ],
   "source": [
    "AB.base_estimator_"
   ]
  },
  {
   "cell_type": "code",
   "execution_count": 38,
   "metadata": {},
   "outputs": [
    {
     "data": {
      "image/svg+xml": [
       "<?xml version=\"1.0\" encoding=\"UTF-8\" standalone=\"no\"?>\n",
       "<!DOCTYPE svg PUBLIC \"-//W3C//DTD SVG 1.1//EN\"\n",
       " \"http://www.w3.org/Graphics/SVG/1.1/DTD/svg11.dtd\">\n",
       "<!-- Generated by graphviz version 2.47.0 (20210316.0004)\n",
       " -->\n",
       "<!-- Title: Tree Pages: 1 -->\n",
       "<svg width=\"1077pt\" height=\"373pt\"\n",
       " viewBox=\"0.00 0.00 1077.00 373.00\" xmlns=\"http://www.w3.org/2000/svg\" xmlns:xlink=\"http://www.w3.org/1999/xlink\">\n",
       "<g id=\"graph0\" class=\"graph\" transform=\"scale(1 1) rotate(0) translate(4 369)\">\n",
       "<title>Tree</title>\n",
       "<polygon fill=\"white\" stroke=\"transparent\" points=\"-4,4 -4,-369 1073,-369 1073,4 -4,4\"/>\n",
       "<!-- 0 -->\n",
       "<g id=\"node1\" class=\"node\">\n",
       "<title>0</title>\n",
       "<path fill=\"#f4cbad\" stroke=\"black\" d=\"M576.5,-365C576.5,-365 470.5,-365 470.5,-365 464.5,-365 458.5,-359 458.5,-353 458.5,-353 458.5,-309 458.5,-309 458.5,-303 464.5,-297 470.5,-297 470.5,-297 576.5,-297 576.5,-297 582.5,-297 588.5,-303 588.5,-309 588.5,-309 588.5,-353 588.5,-353 588.5,-359 582.5,-365 576.5,-365\"/>\n",
       "<text text-anchor=\"middle\" x=\"523.5\" y=\"-349.8\" font-family=\"Helvetica,sans-Serif\" font-size=\"14.00\">strikes &lt;= 0.5</text>\n",
       "<text text-anchor=\"middle\" x=\"523.5\" y=\"-334.8\" font-family=\"Helvetica,sans-Serif\" font-size=\"14.00\">mse = 0.119</text>\n",
       "<text text-anchor=\"middle\" x=\"523.5\" y=\"-319.8\" font-family=\"Helvetica,sans-Serif\" font-size=\"14.00\">samples = 100.0%</text>\n",
       "<text text-anchor=\"middle\" x=\"523.5\" y=\"-304.8\" font-family=\"Helvetica,sans-Serif\" font-size=\"14.00\">value = 0.407</text>\n",
       "</g>\n",
       "<!-- 1 -->\n",
       "<g id=\"node2\" class=\"node\">\n",
       "<title>1</title>\n",
       "<path fill=\"#eeab7b\" stroke=\"black\" d=\"M475,-261C475,-261 336,-261 336,-261 330,-261 324,-255 324,-249 324,-249 324,-205 324,-205 324,-199 330,-193 336,-193 336,-193 475,-193 475,-193 481,-193 487,-199 487,-205 487,-205 487,-249 487,-249 487,-255 481,-261 475,-261\"/>\n",
       "<text text-anchor=\"middle\" x=\"405.5\" y=\"-245.8\" font-family=\"Helvetica,sans-Serif\" font-size=\"14.00\">release_speed &lt;= 97.15</text>\n",
       "<text text-anchor=\"middle\" x=\"405.5\" y=\"-230.8\" font-family=\"Helvetica,sans-Serif\" font-size=\"14.00\">mse = 0.098</text>\n",
       "<text text-anchor=\"middle\" x=\"405.5\" y=\"-215.8\" font-family=\"Helvetica,sans-Serif\" font-size=\"14.00\">samples = 40.9%</text>\n",
       "<text text-anchor=\"middle\" x=\"405.5\" y=\"-200.8\" font-family=\"Helvetica,sans-Serif\" font-size=\"14.00\">value = 0.633</text>\n",
       "</g>\n",
       "<!-- 0&#45;&gt;1 -->\n",
       "<g id=\"edge1\" class=\"edge\">\n",
       "<title>0&#45;&gt;1</title>\n",
       "<path fill=\"none\" stroke=\"black\" d=\"M485.19,-296.88C474.47,-287.62 462.71,-277.45 451.6,-267.85\"/>\n",
       "<polygon fill=\"black\" stroke=\"black\" points=\"453.88,-265.19 444.02,-261.3 449.3,-270.49 453.88,-265.19\"/>\n",
       "<text text-anchor=\"middle\" x=\"445.84\" y=\"-282.53\" font-family=\"Helvetica,sans-Serif\" font-size=\"14.00\">True</text>\n",
       "</g>\n",
       "<!-- 8 -->\n",
       "<g id=\"node9\" class=\"node\">\n",
       "<title>8</title>\n",
       "<path fill=\"#f9e1d0\" stroke=\"black\" d=\"M733,-261C733,-261 616,-261 616,-261 610,-261 604,-255 604,-249 604,-249 604,-205 604,-205 604,-199 610,-193 616,-193 616,-193 733,-193 733,-193 739,-193 745,-199 745,-205 745,-205 745,-249 745,-249 745,-255 739,-261 733,-261\"/>\n",
       "<text text-anchor=\"middle\" x=\"674.5\" y=\"-245.8\" font-family=\"Helvetica,sans-Serif\" font-size=\"14.00\">pitch_type_SI &lt;= 0.5</text>\n",
       "<text text-anchor=\"middle\" x=\"674.5\" y=\"-230.8\" font-family=\"Helvetica,sans-Serif\" font-size=\"14.00\">mse = 0.073</text>\n",
       "<text text-anchor=\"middle\" x=\"674.5\" y=\"-215.8\" font-family=\"Helvetica,sans-Serif\" font-size=\"14.00\">samples = 59.1%</text>\n",
       "<text text-anchor=\"middle\" x=\"674.5\" y=\"-200.8\" font-family=\"Helvetica,sans-Serif\" font-size=\"14.00\">value = 0.25</text>\n",
       "</g>\n",
       "<!-- 0&#45;&gt;8 -->\n",
       "<g id=\"edge8\" class=\"edge\">\n",
       "<title>0&#45;&gt;8</title>\n",
       "<path fill=\"none\" stroke=\"black\" d=\"M572.53,-296.88C586.71,-287.3 602.32,-276.76 616.97,-266.86\"/>\n",
       "<polygon fill=\"black\" stroke=\"black\" points=\"619.13,-269.62 625.46,-261.12 615.22,-263.82 619.13,-269.62\"/>\n",
       "<text text-anchor=\"middle\" x=\"620.71\" y=\"-281.97\" font-family=\"Helvetica,sans-Serif\" font-size=\"14.00\">False</text>\n",
       "</g>\n",
       "<!-- 2 -->\n",
       "<g id=\"node3\" class=\"node\">\n",
       "<title>2</title>\n",
       "<path fill=\"#f2c09d\" stroke=\"black\" d=\"M277,-157C277,-157 112,-157 112,-157 106,-157 100,-151 100,-145 100,-145 100,-101 100,-101 100,-95 106,-89 112,-89 112,-89 277,-89 277,-89 283,-89 289,-95 289,-101 289,-101 289,-145 289,-145 289,-151 283,-157 277,-157\"/>\n",
       "<text text-anchor=\"middle\" x=\"194.5\" y=\"-141.8\" font-family=\"Helvetica,sans-Serif\" font-size=\"14.00\">release_spin_rate &lt;= 1742.0</text>\n",
       "<text text-anchor=\"middle\" x=\"194.5\" y=\"-126.8\" font-family=\"Helvetica,sans-Serif\" font-size=\"14.00\">mse = 0.1</text>\n",
       "<text text-anchor=\"middle\" x=\"194.5\" y=\"-111.8\" font-family=\"Helvetica,sans-Serif\" font-size=\"14.00\">samples = 25.0%</text>\n",
       "<text text-anchor=\"middle\" x=\"194.5\" y=\"-96.8\" font-family=\"Helvetica,sans-Serif\" font-size=\"14.00\">value = 0.481</text>\n",
       "</g>\n",
       "<!-- 1&#45;&gt;2 -->\n",
       "<g id=\"edge2\" class=\"edge\">\n",
       "<title>1&#45;&gt;2</title>\n",
       "<path fill=\"none\" stroke=\"black\" d=\"M336.99,-192.88C316.25,-182.86 293.32,-171.77 272.04,-161.48\"/>\n",
       "<polygon fill=\"black\" stroke=\"black\" points=\"273.55,-158.33 263.02,-157.12 270.5,-164.63 273.55,-158.33\"/>\n",
       "</g>\n",
       "<!-- 5 -->\n",
       "<g id=\"node6\" class=\"node\">\n",
       "<title>5</title>\n",
       "<path fill=\"#e78946\" stroke=\"black\" d=\"M459,-157C459,-157 352,-157 352,-157 346,-157 340,-151 340,-145 340,-145 340,-101 340,-101 340,-95 346,-89 352,-89 352,-89 459,-89 459,-89 465,-89 471,-95 471,-101 471,-101 471,-145 471,-145 471,-151 465,-157 459,-157\"/>\n",
       "<text text-anchor=\"middle\" x=\"405.5\" y=\"-141.8\" font-family=\"Helvetica,sans-Serif\" font-size=\"14.00\">p_throws_R &lt;= 0.5</text>\n",
       "<text text-anchor=\"middle\" x=\"405.5\" y=\"-126.8\" font-family=\"Helvetica,sans-Serif\" font-size=\"14.00\">mse = 0.001</text>\n",
       "<text text-anchor=\"middle\" x=\"405.5\" y=\"-111.8\" font-family=\"Helvetica,sans-Serif\" font-size=\"14.00\">samples = 15.9%</text>\n",
       "<text text-anchor=\"middle\" x=\"405.5\" y=\"-96.8\" font-family=\"Helvetica,sans-Serif\" font-size=\"14.00\">value = 0.872</text>\n",
       "</g>\n",
       "<!-- 1&#45;&gt;5 -->\n",
       "<g id=\"edge5\" class=\"edge\">\n",
       "<title>1&#45;&gt;5</title>\n",
       "<path fill=\"none\" stroke=\"black\" d=\"M405.5,-192.88C405.5,-184.78 405.5,-175.98 405.5,-167.47\"/>\n",
       "<polygon fill=\"black\" stroke=\"black\" points=\"409,-167.3 405.5,-157.3 402,-167.3 409,-167.3\"/>\n",
       "</g>\n",
       "<!-- 3 -->\n",
       "<g id=\"node4\" class=\"node\">\n",
       "<title>3</title>\n",
       "<path fill=\"#e68742\" stroke=\"black\" d=\"M103,-53C103,-53 12,-53 12,-53 6,-53 0,-47 0,-41 0,-41 0,-12 0,-12 0,-6 6,0 12,0 12,0 103,0 103,0 109,0 115,-6 115,-12 115,-12 115,-41 115,-41 115,-47 109,-53 103,-53\"/>\n",
       "<text text-anchor=\"middle\" x=\"57.5\" y=\"-37.8\" font-family=\"Helvetica,sans-Serif\" font-size=\"14.00\">mse = 0.0</text>\n",
       "<text text-anchor=\"middle\" x=\"57.5\" y=\"-22.8\" font-family=\"Helvetica,sans-Serif\" font-size=\"14.00\">samples = 4.5%</text>\n",
       "<text text-anchor=\"middle\" x=\"57.5\" y=\"-7.8\" font-family=\"Helvetica,sans-Serif\" font-size=\"14.00\">value = 0.889</text>\n",
       "</g>\n",
       "<!-- 2&#45;&gt;3 -->\n",
       "<g id=\"edge3\" class=\"edge\">\n",
       "<title>2&#45;&gt;3</title>\n",
       "<path fill=\"none\" stroke=\"black\" d=\"M146.58,-88.95C132.53,-79.25 117.19,-68.68 103.27,-59.07\"/>\n",
       "<polygon fill=\"black\" stroke=\"black\" points=\"105.03,-56.03 94.81,-53.24 101.06,-61.8 105.03,-56.03\"/>\n",
       "</g>\n",
       "<!-- 4 -->\n",
       "<g id=\"node5\" class=\"node\">\n",
       "<title>4</title>\n",
       "<path fill=\"#f5cdb1\" stroke=\"black\" d=\"M243.5,-53C243.5,-53 145.5,-53 145.5,-53 139.5,-53 133.5,-47 133.5,-41 133.5,-41 133.5,-12 133.5,-12 133.5,-6 139.5,0 145.5,0 145.5,0 243.5,0 243.5,0 249.5,0 255.5,-6 255.5,-12 255.5,-12 255.5,-41 255.5,-41 255.5,-47 249.5,-53 243.5,-53\"/>\n",
       "<text text-anchor=\"middle\" x=\"194.5\" y=\"-37.8\" font-family=\"Helvetica,sans-Serif\" font-size=\"14.00\">mse = 0.077</text>\n",
       "<text text-anchor=\"middle\" x=\"194.5\" y=\"-22.8\" font-family=\"Helvetica,sans-Serif\" font-size=\"14.00\">samples = 20.5%</text>\n",
       "<text text-anchor=\"middle\" x=\"194.5\" y=\"-7.8\" font-family=\"Helvetica,sans-Serif\" font-size=\"14.00\">value = 0.39</text>\n",
       "</g>\n",
       "<!-- 2&#45;&gt;4 -->\n",
       "<g id=\"edge4\" class=\"edge\">\n",
       "<title>2&#45;&gt;4</title>\n",
       "<path fill=\"none\" stroke=\"black\" d=\"M194.5,-88.95C194.5,-80.72 194.5,-71.85 194.5,-63.48\"/>\n",
       "<polygon fill=\"black\" stroke=\"black\" points=\"198,-63.24 194.5,-53.24 191,-63.24 198,-63.24\"/>\n",
       "</g>\n",
       "<!-- 6 -->\n",
       "<g id=\"node7\" class=\"node\">\n",
       "<title>6</title>\n",
       "<path fill=\"#e58139\" stroke=\"black\" d=\"M377,-53C377,-53 286,-53 286,-53 280,-53 274,-47 274,-41 274,-41 274,-12 274,-12 274,-6 280,0 286,0 286,0 377,0 377,0 383,0 389,-6 389,-12 389,-12 389,-41 389,-41 389,-47 383,-53 377,-53\"/>\n",
       "<text text-anchor=\"middle\" x=\"331.5\" y=\"-37.8\" font-family=\"Helvetica,sans-Serif\" font-size=\"14.00\">mse = 0.0</text>\n",
       "<text text-anchor=\"middle\" x=\"331.5\" y=\"-22.8\" font-family=\"Helvetica,sans-Serif\" font-size=\"14.00\">samples = 4.5%</text>\n",
       "<text text-anchor=\"middle\" x=\"331.5\" y=\"-7.8\" font-family=\"Helvetica,sans-Serif\" font-size=\"14.00\">value = 0.931</text>\n",
       "</g>\n",
       "<!-- 5&#45;&gt;6 -->\n",
       "<g id=\"edge6\" class=\"edge\">\n",
       "<title>5&#45;&gt;6</title>\n",
       "<path fill=\"none\" stroke=\"black\" d=\"M379.62,-88.95C372.6,-79.98 364.99,-70.27 357.94,-61.26\"/>\n",
       "<polygon fill=\"black\" stroke=\"black\" points=\"360.57,-58.95 351.65,-53.24 355.06,-63.27 360.57,-58.95\"/>\n",
       "</g>\n",
       "<!-- 7 -->\n",
       "<g id=\"node8\" class=\"node\">\n",
       "<title>7</title>\n",
       "<path fill=\"#e78d4b\" stroke=\"black\" d=\"M517.5,-53C517.5,-53 419.5,-53 419.5,-53 413.5,-53 407.5,-47 407.5,-41 407.5,-41 407.5,-12 407.5,-12 407.5,-6 413.5,0 419.5,0 419.5,0 517.5,0 517.5,0 523.5,0 529.5,-6 529.5,-12 529.5,-12 529.5,-41 529.5,-41 529.5,-47 523.5,-53 517.5,-53\"/>\n",
       "<text text-anchor=\"middle\" x=\"468.5\" y=\"-37.8\" font-family=\"Helvetica,sans-Serif\" font-size=\"14.00\">mse = 0.0</text>\n",
       "<text text-anchor=\"middle\" x=\"468.5\" y=\"-22.8\" font-family=\"Helvetica,sans-Serif\" font-size=\"14.00\">samples = 11.4%</text>\n",
       "<text text-anchor=\"middle\" x=\"468.5\" y=\"-7.8\" font-family=\"Helvetica,sans-Serif\" font-size=\"14.00\">value = 0.849</text>\n",
       "</g>\n",
       "<!-- 5&#45;&gt;7 -->\n",
       "<g id=\"edge7\" class=\"edge\">\n",
       "<title>5&#45;&gt;7</title>\n",
       "<path fill=\"none\" stroke=\"black\" d=\"M427.53,-88.95C433.39,-80.17 439.72,-70.66 445.62,-61.82\"/>\n",
       "<polygon fill=\"black\" stroke=\"black\" points=\"448.71,-63.5 451.34,-53.24 442.88,-59.62 448.71,-63.5\"/>\n",
       "</g>\n",
       "<!-- 9 -->\n",
       "<g id=\"node10\" class=\"node\">\n",
       "<title>9</title>\n",
       "<path fill=\"#fbeadd\" stroke=\"black\" d=\"M723.5,-157C723.5,-157 625.5,-157 625.5,-157 619.5,-157 613.5,-151 613.5,-145 613.5,-145 613.5,-101 613.5,-101 613.5,-95 619.5,-89 625.5,-89 625.5,-89 723.5,-89 723.5,-89 729.5,-89 735.5,-95 735.5,-101 735.5,-101 735.5,-145 735.5,-145 735.5,-151 729.5,-157 723.5,-157\"/>\n",
       "<text text-anchor=\"middle\" x=\"674.5\" y=\"-141.8\" font-family=\"Helvetica,sans-Serif\" font-size=\"14.00\">balls &lt;= 2.5</text>\n",
       "<text text-anchor=\"middle\" x=\"674.5\" y=\"-126.8\" font-family=\"Helvetica,sans-Serif\" font-size=\"14.00\">mse = 0.042</text>\n",
       "<text text-anchor=\"middle\" x=\"674.5\" y=\"-111.8\" font-family=\"Helvetica,sans-Serif\" font-size=\"14.00\">samples = 50.0%</text>\n",
       "<text text-anchor=\"middle\" x=\"674.5\" y=\"-96.8\" font-family=\"Helvetica,sans-Serif\" font-size=\"14.00\">value = 0.188</text>\n",
       "</g>\n",
       "<!-- 8&#45;&gt;9 -->\n",
       "<g id=\"edge9\" class=\"edge\">\n",
       "<title>8&#45;&gt;9</title>\n",
       "<path fill=\"none\" stroke=\"black\" d=\"M674.5,-192.88C674.5,-184.78 674.5,-175.98 674.5,-167.47\"/>\n",
       "<polygon fill=\"black\" stroke=\"black\" points=\"678,-167.3 674.5,-157.3 671,-167.3 678,-167.3\"/>\n",
       "</g>\n",
       "<!-- 12 -->\n",
       "<g id=\"node13\" class=\"node\">\n",
       "<title>12</title>\n",
       "<path fill=\"#efb285\" stroke=\"black\" d=\"M924,-157C924,-157 833,-157 833,-157 827,-157 821,-151 821,-145 821,-145 821,-101 821,-101 821,-95 827,-89 833,-89 833,-89 924,-89 924,-89 930,-89 936,-95 936,-101 936,-101 936,-145 936,-145 936,-151 930,-157 924,-157\"/>\n",
       "<text text-anchor=\"middle\" x=\"878.5\" y=\"-141.8\" font-family=\"Helvetica,sans-Serif\" font-size=\"14.00\">balls &lt;= 2.5</text>\n",
       "<text text-anchor=\"middle\" x=\"878.5\" y=\"-126.8\" font-family=\"Helvetica,sans-Serif\" font-size=\"14.00\">mse = 0.114</text>\n",
       "<text text-anchor=\"middle\" x=\"878.5\" y=\"-111.8\" font-family=\"Helvetica,sans-Serif\" font-size=\"14.00\">samples = 9.1%</text>\n",
       "<text text-anchor=\"middle\" x=\"878.5\" y=\"-96.8\" font-family=\"Helvetica,sans-Serif\" font-size=\"14.00\">value = 0.586</text>\n",
       "</g>\n",
       "<!-- 8&#45;&gt;12 -->\n",
       "<g id=\"edge12\" class=\"edge\">\n",
       "<title>8&#45;&gt;12</title>\n",
       "<path fill=\"none\" stroke=\"black\" d=\"M740.73,-192.88C763.43,-181.53 788.84,-168.83 811.59,-157.45\"/>\n",
       "<polygon fill=\"black\" stroke=\"black\" points=\"813.45,-160.44 820.83,-152.83 810.32,-154.18 813.45,-160.44\"/>\n",
       "</g>\n",
       "<!-- 10 -->\n",
       "<g id=\"node11\" class=\"node\">\n",
       "<title>10</title>\n",
       "<path fill=\"#fdf3ec\" stroke=\"black\" d=\"M657.5,-53C657.5,-53 559.5,-53 559.5,-53 553.5,-53 547.5,-47 547.5,-41 547.5,-41 547.5,-12 547.5,-12 547.5,-6 553.5,0 559.5,0 559.5,0 657.5,0 657.5,0 663.5,0 669.5,-6 669.5,-12 669.5,-12 669.5,-41 669.5,-41 669.5,-47 663.5,-53 657.5,-53\"/>\n",
       "<text text-anchor=\"middle\" x=\"608.5\" y=\"-37.8\" font-family=\"Helvetica,sans-Serif\" font-size=\"14.00\">mse = 0.016</text>\n",
       "<text text-anchor=\"middle\" x=\"608.5\" y=\"-22.8\" font-family=\"Helvetica,sans-Serif\" font-size=\"14.00\">samples = 40.9%</text>\n",
       "<text text-anchor=\"middle\" x=\"608.5\" y=\"-7.8\" font-family=\"Helvetica,sans-Serif\" font-size=\"14.00\">value = 0.123</text>\n",
       "</g>\n",
       "<!-- 9&#45;&gt;10 -->\n",
       "<g id=\"edge10\" class=\"edge\">\n",
       "<title>9&#45;&gt;10</title>\n",
       "<path fill=\"none\" stroke=\"black\" d=\"M651.42,-88.95C645.22,-80.07 638.51,-70.46 632.27,-61.54\"/>\n",
       "<polygon fill=\"black\" stroke=\"black\" points=\"635.07,-59.43 626.47,-53.24 629.33,-63.44 635.07,-59.43\"/>\n",
       "</g>\n",
       "<!-- 11 -->\n",
       "<g id=\"node12\" class=\"node\">\n",
       "<title>11</title>\n",
       "<path fill=\"#f2c09c\" stroke=\"black\" d=\"M791,-53C791,-53 700,-53 700,-53 694,-53 688,-47 688,-41 688,-41 688,-12 688,-12 688,-6 694,0 700,0 700,0 791,0 791,0 797,0 803,-6 803,-12 803,-12 803,-41 803,-41 803,-47 797,-53 791,-53\"/>\n",
       "<text text-anchor=\"middle\" x=\"745.5\" y=\"-37.8\" font-family=\"Helvetica,sans-Serif\" font-size=\"14.00\">mse = 0.051</text>\n",
       "<text text-anchor=\"middle\" x=\"745.5\" y=\"-22.8\" font-family=\"Helvetica,sans-Serif\" font-size=\"14.00\">samples = 9.1%</text>\n",
       "<text text-anchor=\"middle\" x=\"745.5\" y=\"-7.8\" font-family=\"Helvetica,sans-Serif\" font-size=\"14.00\">value = 0.484</text>\n",
       "</g>\n",
       "<!-- 9&#45;&gt;11 -->\n",
       "<g id=\"edge11\" class=\"edge\">\n",
       "<title>9&#45;&gt;11</title>\n",
       "<path fill=\"none\" stroke=\"black\" d=\"M699.33,-88.95C706.07,-79.98 713.37,-70.27 720.13,-61.26\"/>\n",
       "<polygon fill=\"black\" stroke=\"black\" points=\"722.95,-63.33 726.16,-53.24 717.36,-59.13 722.95,-63.33\"/>\n",
       "</g>\n",
       "<!-- 13 -->\n",
       "<g id=\"node14\" class=\"node\">\n",
       "<title>13</title>\n",
       "<path fill=\"#ea985d\" stroke=\"black\" d=\"M924,-53C924,-53 833,-53 833,-53 827,-53 821,-47 821,-41 821,-41 821,-12 821,-12 821,-6 827,0 833,0 833,0 924,0 924,0 930,0 936,-6 936,-12 936,-12 936,-41 936,-41 936,-47 930,-53 924,-53\"/>\n",
       "<text text-anchor=\"middle\" x=\"878.5\" y=\"-37.8\" font-family=\"Helvetica,sans-Serif\" font-size=\"14.00\">mse = 0.018</text>\n",
       "<text text-anchor=\"middle\" x=\"878.5\" y=\"-22.8\" font-family=\"Helvetica,sans-Serif\" font-size=\"14.00\">samples = 6.8%</text>\n",
       "<text text-anchor=\"middle\" x=\"878.5\" y=\"-7.8\" font-family=\"Helvetica,sans-Serif\" font-size=\"14.00\">value = 0.769</text>\n",
       "</g>\n",
       "<!-- 12&#45;&gt;13 -->\n",
       "<g id=\"edge13\" class=\"edge\">\n",
       "<title>12&#45;&gt;13</title>\n",
       "<path fill=\"none\" stroke=\"black\" d=\"M878.5,-88.95C878.5,-80.72 878.5,-71.85 878.5,-63.48\"/>\n",
       "<polygon fill=\"black\" stroke=\"black\" points=\"882,-63.24 878.5,-53.24 875,-63.24 882,-63.24\"/>\n",
       "</g>\n",
       "<!-- 14 -->\n",
       "<g id=\"node15\" class=\"node\">\n",
       "<title>14</title>\n",
       "<path fill=\"#ffffff\" stroke=\"black\" d=\"M1057,-53C1057,-53 966,-53 966,-53 960,-53 954,-47 954,-41 954,-41 954,-12 954,-12 954,-6 960,0 966,0 966,0 1057,0 1057,0 1063,0 1069,-6 1069,-12 1069,-12 1069,-41 1069,-41 1069,-47 1063,-53 1057,-53\"/>\n",
       "<text text-anchor=\"middle\" x=\"1011.5\" y=\"-37.8\" font-family=\"Helvetica,sans-Serif\" font-size=\"14.00\">mse = &#45;0.0</text>\n",
       "<text text-anchor=\"middle\" x=\"1011.5\" y=\"-22.8\" font-family=\"Helvetica,sans-Serif\" font-size=\"14.00\">samples = 2.3%</text>\n",
       "<text text-anchor=\"middle\" x=\"1011.5\" y=\"-7.8\" font-family=\"Helvetica,sans-Serif\" font-size=\"14.00\">value = 0.037</text>\n",
       "</g>\n",
       "<!-- 12&#45;&gt;14 -->\n",
       "<g id=\"edge14\" class=\"edge\">\n",
       "<title>12&#45;&gt;14</title>\n",
       "<path fill=\"none\" stroke=\"black\" d=\"M925.02,-88.95C938.66,-79.25 953.55,-68.68 967.06,-59.07\"/>\n",
       "<polygon fill=\"black\" stroke=\"black\" points=\"969.15,-61.88 975.28,-53.24 965.1,-56.18 969.15,-61.88\"/>\n",
       "</g>\n",
       "</g>\n",
       "</svg>\n"
      ],
      "text/plain": [
       "<graphviz.sources.Source at 0x7fca9439c820>"
      ]
     },
     "execution_count": 38,
     "metadata": {},
     "output_type": "execute_result"
    }
   ],
   "source": [
    "dot_data = export_graphviz(AB.estimators_[5], \n",
    "                           feature_names=X_frame,\n",
    "                           class_names='estimated_ba_using_speedangle', \n",
    "                           filled=True, impurity=True,proportion = True, \n",
    "                           rounded=True)\n",
    "\n",
    "graph = graphviz.Source(dot_data, format='png')\n",
    "graph"
   ]
  },
  {
   "cell_type": "code",
   "execution_count": 37,
   "metadata": {},
   "outputs": [
    {
     "ename": "AttributeError",
     "evalue": "'Index' object has no attribute 'columns'",
     "output_type": "error",
     "traceback": [
      "\u001b[0;31m---------------------------------------------------------------------------\u001b[0m",
      "\u001b[0;31mAttributeError\u001b[0m                            Traceback (most recent call last)",
      "\u001b[0;32m<ipython-input-37-ea24dcf578f5>\u001b[0m in \u001b[0;36m<module>\u001b[0;34m\u001b[0m\n\u001b[1;32m      2\u001b[0m \u001b[0;31m# Export as dot file\u001b[0m\u001b[0;34m\u001b[0m\u001b[0;34m\u001b[0m\u001b[0;34m\u001b[0m\u001b[0m\n\u001b[1;32m      3\u001b[0m export_graphviz(RFR, out_file='tree.dot', \n\u001b[0;32m----> 4\u001b[0;31m                 \u001b[0mfeature_names\u001b[0m \u001b[0;34m=\u001b[0m \u001b[0mX_frame\u001b[0m\u001b[0;34m.\u001b[0m\u001b[0mcolumns\u001b[0m\u001b[0;34m,\u001b[0m\u001b[0;34m\u001b[0m\u001b[0;34m\u001b[0m\u001b[0m\n\u001b[0m\u001b[1;32m      5\u001b[0m                 \u001b[0mclass_names\u001b[0m \u001b[0;34m=\u001b[0m \u001b[0;34m'estimated_ba_using_speedangle'\u001b[0m\u001b[0;34m,\u001b[0m\u001b[0;34m\u001b[0m\u001b[0;34m\u001b[0m\u001b[0m\n\u001b[1;32m      6\u001b[0m                 \u001b[0mrounded\u001b[0m \u001b[0;34m=\u001b[0m \u001b[0;32mTrue\u001b[0m\u001b[0;34m,\u001b[0m \u001b[0mproportion\u001b[0m \u001b[0;34m=\u001b[0m \u001b[0;32mFalse\u001b[0m\u001b[0;34m,\u001b[0m\u001b[0;34m\u001b[0m\u001b[0;34m\u001b[0m\u001b[0m\n",
      "\u001b[0;31mAttributeError\u001b[0m: 'Index' object has no attribute 'columns'"
     ]
    }
   ],
   "source": [
    "from sklearn.tree import export_graphviz\n",
    "# Export as dot file\n",
    "export_graphviz(RFR, out_file='tree.dot', \n",
    "                feature_names = X_frame.columns,\n",
    "                class_names = 'estimated_ba_using_speedangle',\n",
    "                rounded = True, proportion = False, \n",
    "                precision = 2, filled = True)"
   ]
  },
  {
   "cell_type": "code",
   "execution_count": 38,
   "metadata": {},
   "outputs": [],
   "source": [
    "\n",
    "from sklearn.tree import DecisionTreeRegressor "
   ]
  },
  {
   "cell_type": "code",
   "execution_count": 39,
   "metadata": {},
   "outputs": [],
   "source": [
    "tree = DecisionTreeRegressor(criterion='mse',max_depth=3)"
   ]
  },
  {
   "cell_type": "code",
   "execution_count": 40,
   "metadata": {},
   "outputs": [
    {
     "data": {
      "text/plain": [
       "DecisionTreeRegressor(max_depth=3)"
      ]
     },
     "execution_count": 40,
     "metadata": {},
     "output_type": "execute_result"
    }
   ],
   "source": [
    "tree.fit(X_test,y_test.ravel())"
   ]
  },
  {
   "cell_type": "code",
   "execution_count": 41,
   "metadata": {},
   "outputs": [],
   "source": [
    "t_pred=tree.predict(X_test)"
   ]
  },
  {
   "cell_type": "code",
   "execution_count": 42,
   "metadata": {},
   "outputs": [
    {
     "data": {
      "text/plain": [
       "array([0.54527273, 0.24666667, 0.06733333, 0.24666667, 0.24      ,\n",
       "       0.54527273, 0.24666667, 0.54527273, 0.06733333, 0.24666667,\n",
       "       0.06733333, 0.54527273, 0.54527273, 0.24      , 0.54527273,\n",
       "       0.54527273, 0.54527273, 0.034     , 0.54527273, 0.0745    ,\n",
       "       0.54527273, 0.54527273, 0.06733333, 0.54527273, 0.54527273,\n",
       "       0.54527273, 0.06733333, 0.54527273, 0.06733333, 0.24666667,\n",
       "       0.0745    , 0.54527273, 0.54527273, 0.846     , 0.24666667,\n",
       "       0.54527273, 0.54527273, 0.54527273, 0.24      , 0.24666667,\n",
       "       0.24666667, 0.24666667, 0.54527273, 0.54527273])"
      ]
     },
     "execution_count": 42,
     "metadata": {},
     "output_type": "execute_result"
    }
   ],
   "source": [
    "t_pred"
   ]
  },
  {
   "cell_type": "code",
   "execution_count": 45,
   "metadata": {},
   "outputs": [
    {
     "ename": "AttributeError",
     "evalue": "'RandomForestRegressor' object has no attribute 'tree_'",
     "output_type": "error",
     "traceback": [
      "\u001b[0;31m---------------------------------------------------------------------------\u001b[0m",
      "\u001b[0;31mAttributeError\u001b[0m                            Traceback (most recent call last)",
      "\u001b[0;32m<ipython-input-45-0633b950d5ca>\u001b[0m in \u001b[0;36m<module>\u001b[0;34m\u001b[0m\n\u001b[0;32m----> 1\u001b[0;31m dot_data = export_graphviz(RFR, \n\u001b[0m\u001b[1;32m      2\u001b[0m                            \u001b[0mfeature_names\u001b[0m\u001b[0;34m=\u001b[0m\u001b[0mX_frame\u001b[0m\u001b[0;34m,\u001b[0m\u001b[0;34m\u001b[0m\u001b[0;34m\u001b[0m\u001b[0m\n\u001b[1;32m      3\u001b[0m                            \u001b[0mclass_names\u001b[0m\u001b[0;34m=\u001b[0m\u001b[0;34m'estimated_ba_using_speedangle'\u001b[0m\u001b[0;34m,\u001b[0m\u001b[0;34m\u001b[0m\u001b[0;34m\u001b[0m\u001b[0m\n\u001b[1;32m      4\u001b[0m                            \u001b[0mfilled\u001b[0m\u001b[0;34m=\u001b[0m\u001b[0;32mTrue\u001b[0m\u001b[0;34m,\u001b[0m \u001b[0mimpurity\u001b[0m\u001b[0;34m=\u001b[0m\u001b[0;32mTrue\u001b[0m\u001b[0;34m,\u001b[0m\u001b[0mproportion\u001b[0m \u001b[0;34m=\u001b[0m \u001b[0;32mTrue\u001b[0m\u001b[0;34m,\u001b[0m\u001b[0;34m\u001b[0m\u001b[0;34m\u001b[0m\u001b[0m\n\u001b[1;32m      5\u001b[0m                            rounded=True)\n",
      "\u001b[0;32m~/opt/anaconda3/lib/python3.8/site-packages/sklearn/utils/validation.py\u001b[0m in \u001b[0;36minner_f\u001b[0;34m(*args, **kwargs)\u001b[0m\n\u001b[1;32m     70\u001b[0m                           FutureWarning)\n\u001b[1;32m     71\u001b[0m         \u001b[0mkwargs\u001b[0m\u001b[0;34m.\u001b[0m\u001b[0mupdate\u001b[0m\u001b[0;34m(\u001b[0m\u001b[0;34m{\u001b[0m\u001b[0mk\u001b[0m\u001b[0;34m:\u001b[0m \u001b[0marg\u001b[0m \u001b[0;32mfor\u001b[0m \u001b[0mk\u001b[0m\u001b[0;34m,\u001b[0m \u001b[0marg\u001b[0m \u001b[0;32min\u001b[0m \u001b[0mzip\u001b[0m\u001b[0;34m(\u001b[0m\u001b[0msig\u001b[0m\u001b[0;34m.\u001b[0m\u001b[0mparameters\u001b[0m\u001b[0;34m,\u001b[0m \u001b[0margs\u001b[0m\u001b[0;34m)\u001b[0m\u001b[0;34m}\u001b[0m\u001b[0;34m)\u001b[0m\u001b[0;34m\u001b[0m\u001b[0;34m\u001b[0m\u001b[0m\n\u001b[0;32m---> 72\u001b[0;31m         \u001b[0;32mreturn\u001b[0m \u001b[0mf\u001b[0m\u001b[0;34m(\u001b[0m\u001b[0;34m**\u001b[0m\u001b[0mkwargs\u001b[0m\u001b[0;34m)\u001b[0m\u001b[0;34m\u001b[0m\u001b[0;34m\u001b[0m\u001b[0m\n\u001b[0m\u001b[1;32m     73\u001b[0m     \u001b[0;32mreturn\u001b[0m \u001b[0minner_f\u001b[0m\u001b[0;34m\u001b[0m\u001b[0;34m\u001b[0m\u001b[0m\n\u001b[1;32m     74\u001b[0m \u001b[0;34m\u001b[0m\u001b[0m\n",
      "\u001b[0;32m~/opt/anaconda3/lib/python3.8/site-packages/sklearn/tree/_export.py\u001b[0m in \u001b[0;36mexport_graphviz\u001b[0;34m(decision_tree, out_file, max_depth, feature_names, class_names, label, filled, leaves_parallel, impurity, node_ids, proportion, rotate, rounded, special_characters, precision)\u001b[0m\n\u001b[1;32m    781\u001b[0m             \u001b[0mrounded\u001b[0m\u001b[0;34m=\u001b[0m\u001b[0mrounded\u001b[0m\u001b[0;34m,\u001b[0m \u001b[0mspecial_characters\u001b[0m\u001b[0;34m=\u001b[0m\u001b[0mspecial_characters\u001b[0m\u001b[0;34m,\u001b[0m\u001b[0;34m\u001b[0m\u001b[0;34m\u001b[0m\u001b[0m\n\u001b[1;32m    782\u001b[0m             precision=precision)\n\u001b[0;32m--> 783\u001b[0;31m         \u001b[0mexporter\u001b[0m\u001b[0;34m.\u001b[0m\u001b[0mexport\u001b[0m\u001b[0;34m(\u001b[0m\u001b[0mdecision_tree\u001b[0m\u001b[0;34m)\u001b[0m\u001b[0;34m\u001b[0m\u001b[0;34m\u001b[0m\u001b[0m\n\u001b[0m\u001b[1;32m    784\u001b[0m \u001b[0;34m\u001b[0m\u001b[0m\n\u001b[1;32m    785\u001b[0m         \u001b[0;32mif\u001b[0m \u001b[0mreturn_string\u001b[0m\u001b[0;34m:\u001b[0m\u001b[0;34m\u001b[0m\u001b[0;34m\u001b[0m\u001b[0m\n",
      "\u001b[0;32m~/opt/anaconda3/lib/python3.8/site-packages/sklearn/tree/_export.py\u001b[0m in \u001b[0;36mexport\u001b[0;34m(self, decision_tree)\u001b[0m\n\u001b[1;32m    421\u001b[0m             \u001b[0mself\u001b[0m\u001b[0;34m.\u001b[0m\u001b[0mrecurse\u001b[0m\u001b[0;34m(\u001b[0m\u001b[0mdecision_tree\u001b[0m\u001b[0;34m,\u001b[0m \u001b[0;36m0\u001b[0m\u001b[0;34m,\u001b[0m \u001b[0mcriterion\u001b[0m\u001b[0;34m=\u001b[0m\u001b[0;34m\"impurity\"\u001b[0m\u001b[0;34m)\u001b[0m\u001b[0;34m\u001b[0m\u001b[0;34m\u001b[0m\u001b[0m\n\u001b[1;32m    422\u001b[0m         \u001b[0;32melse\u001b[0m\u001b[0;34m:\u001b[0m\u001b[0;34m\u001b[0m\u001b[0;34m\u001b[0m\u001b[0m\n\u001b[0;32m--> 423\u001b[0;31m             self.recurse(decision_tree.tree_, 0,\n\u001b[0m\u001b[1;32m    424\u001b[0m                          criterion=decision_tree.criterion)\n\u001b[1;32m    425\u001b[0m \u001b[0;34m\u001b[0m\u001b[0m\n",
      "\u001b[0;31mAttributeError\u001b[0m: 'RandomForestRegressor' object has no attribute 'tree_'"
     ]
    }
   ],
   "source": [
    "dot_data = export_graphviz(RFR, \n",
    "                           feature_names=X_frame,\n",
    "                           class_names='estimated_ba_using_speedangle', \n",
    "                           filled=True, impurity=True,proportion = True, \n",
    "                           rounded=True)\n",
    "\n",
    "graph = graphviz.Source(dot_data, format='png')\n",
    "\n",
    "graph"
   ]
  },
  {
   "cell_type": "code",
   "execution_count": 1,
   "metadata": {},
   "outputs": [
    {
     "ename": "NameError",
     "evalue": "name 'export_graphviz' is not defined",
     "output_type": "error",
     "traceback": [
      "\u001b[0;31m---------------------------------------------------------------------------\u001b[0m",
      "\u001b[0;31mNameError\u001b[0m                                 Traceback (most recent call last)",
      "\u001b[0;32m<ipython-input-1-8eaeec8fcc59>\u001b[0m in \u001b[0;36m<module>\u001b[0;34m\u001b[0m\n\u001b[0;32m----> 1\u001b[0;31m \u001b[0mexport_graphviz\u001b[0m\u001b[0;34m(\u001b[0m\u001b[0mtree\u001b[0m\u001b[0;34m,\u001b[0m \u001b[0mout_file\u001b[0m\u001b[0;34m=\u001b[0m\u001b[0;34m\"tree.dot\"\u001b[0m\u001b[0;34m,\u001b[0m\u001b[0mfeature_names\u001b[0m\u001b[0;34m=\u001b[0m\u001b[0mX_frame\u001b[0m\u001b[0;34m,\u001b[0m \u001b[0mimpurity\u001b[0m\u001b[0;34m=\u001b[0m\u001b[0;32mFalse\u001b[0m\u001b[0;34m,\u001b[0m \u001b[0mfilled\u001b[0m\u001b[0;34m=\u001b[0m\u001b[0;32mTrue\u001b[0m\u001b[0;34m)\u001b[0m\u001b[0;34m\u001b[0m\u001b[0;34m\u001b[0m\u001b[0m\n\u001b[0m\u001b[1;32m      2\u001b[0m \u001b[0;34m\u001b[0m\u001b[0m\n\u001b[1;32m      3\u001b[0m \u001b[0;34m\u001b[0m\u001b[0m\n\u001b[1;32m      4\u001b[0m \u001b[0;34m\u001b[0m\u001b[0m\n\u001b[1;32m      5\u001b[0m \u001b[0mgraph\u001b[0m \u001b[0;34m=\u001b[0m \u001b[0mgraphviz\u001b[0m\u001b[0;34m.\u001b[0m\u001b[0mSource\u001b[0m\u001b[0;34m(\u001b[0m\u001b[0mdot_data\u001b[0m\u001b[0;34m,\u001b[0m \u001b[0mformat\u001b[0m\u001b[0;34m=\u001b[0m\u001b[0;34m'png'\u001b[0m\u001b[0;34m)\u001b[0m\u001b[0;34m\u001b[0m\u001b[0;34m\u001b[0m\u001b[0m\n",
      "\u001b[0;31mNameError\u001b[0m: name 'export_graphviz' is not defined"
     ]
    }
   ],
   "source": [
    "export_graphviz(tree, out_file=\"tree.dot\",feature_names=X_frame, impurity=False, filled=True)\n",
    "\n",
    "\n",
    "\n",
    "graph = graphviz.Source(dot_data, format='png')"
   ]
  },
  {
   "cell_type": "code",
   "execution_count": 101,
   "metadata": {},
   "outputs": [
    {
     "data": {
      "text/plain": [
       "<bound method Render.render of <graphviz.sources.Source object at 0x7fb6a43f5040>>"
      ]
     },
     "execution_count": 101,
     "metadata": {},
     "output_type": "execute_result"
    }
   ],
   "source": [
    "filename=graph.render(filename='img/g1')"
   ]
  },
  {
   "cell_type": "code",
   "execution_count": 102,
   "metadata": {},
   "outputs": [
    {
     "data": {
      "text/plain": [
       "<Figure size 432x288 with 0 Axes>"
      ]
     },
     "metadata": {},
     "output_type": "display_data"
    }
   ],
   "source": [
    "pylab.savefig('filename.png')"
   ]
  },
  {
   "cell_type": "code",
   "execution_count": null,
   "metadata": {},
   "outputs": [],
   "source": []
  },
  {
   "cell_type": "code",
   "execution_count": null,
   "metadata": {},
   "outputs": [],
   "source": [
    "import graphviz as gv\n",
    "import pylab\n",
    "\n",
    "g1 = gv.Graph(format='png')\n",
    "\n",
    "g1.node('A')\n",
    "g1.node('B')\n",
    "g1.edge('A', 'B')\n",
    "\n",
    "g1.view()\n",
    "print(g1.source) \n",
    "\n",
    "filename = g1.render(filename='img/g1')\n",
    "\n",
    "pylab.savefig('filename.png')"
   ]
  },
  {
   "cell_type": "code",
   "execution_count": null,
   "metadata": {},
   "outputs": [],
   "source": []
  }
 ],
 "metadata": {
  "kernelspec": {
   "display_name": "Python 3",
   "language": "python",
   "name": "python3"
  },
  "language_info": {
   "codemirror_mode": {
    "name": "ipython",
    "version": 3
   },
   "file_extension": ".py",
   "mimetype": "text/x-python",
   "name": "python",
   "nbconvert_exporter": "python",
   "pygments_lexer": "ipython3",
   "version": "3.8.5"
  }
 },
 "nbformat": 4,
 "nbformat_minor": 4
}
